{
 "cells": [
  {
   "cell_type": "markdown",
   "id": "94ec5cad",
   "metadata": {},
   "source": [
    "# Clean Infected Leaves dataset"
   ]
  },
  {
   "cell_type": "markdown",
   "id": "0429af55",
   "metadata": {},
   "source": [
    "## Pre-requirements"
   ]
  },
  {
   "cell_type": "markdown",
   "id": "a6db7a60",
   "metadata": {},
   "source": [
    "### Package instalation:\n",
    "\n",
    "On the repo root, execute `pip install .`"
   ]
  },
  {
   "cell_type": "markdown",
   "id": "c7e2852d",
   "metadata": {},
   "source": [
    "## Usage"
   ]
  },
  {
   "cell_type": "markdown",
   "id": "82f9b54f",
   "metadata": {},
   "source": [
    "### Import function"
   ]
  },
  {
   "cell_type": "code",
   "execution_count": null,
   "id": "41b81d28",
   "metadata": {},
   "outputs": [],
   "source": [
    "from yolo_drone.src.clean_data import clean_infected_leaves"
   ]
  },
  {
   "cell_type": "code",
   "execution_count": null,
   "id": "abcb470a",
   "metadata": {},
   "outputs": [],
   "source": [
    "clean_infected_leaves()"
   ]
  }
 ],
 "metadata": {
  "kernelspec": {
   "display_name": "venv",
   "language": "python",
   "name": "python3"
  },
  "language_info": {
   "codemirror_mode": {
    "name": "ipython",
    "version": 3
   },
   "file_extension": ".py",
   "mimetype": "text/x-python",
   "name": "python",
   "nbconvert_exporter": "python",
   "pygments_lexer": "ipython3",
   "version": "3.11.2"
  }
 },
 "nbformat": 4,
 "nbformat_minor": 5
}
