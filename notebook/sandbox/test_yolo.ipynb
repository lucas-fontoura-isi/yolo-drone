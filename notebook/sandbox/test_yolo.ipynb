{
 "cells": [
  {
   "cell_type": "markdown",
   "id": "e21130f6",
   "metadata": {},
   "source": [
    "# A script just to test YOLO models"
   ]
  },
  {
   "cell_type": "markdown",
   "id": "3e96f513",
   "metadata": {},
   "source": [
    "## Imports"
   ]
  },
  {
   "cell_type": "code",
   "execution_count": null,
   "id": "499e4505",
   "metadata": {},
   "outputs": [],
   "source": [
    "from ultralytics import YOLO"
   ]
  },
  {
   "cell_type": "markdown",
   "id": "5551bd6e",
   "metadata": {},
   "source": [
    "## Train on random weights"
   ]
  },
  {
   "cell_type": "code",
   "execution_count": null,
   "id": "4e8901f0",
   "metadata": {},
   "outputs": [],
   "source": [
    "model = YOLO(\"yolo12n.pt\")\n",
    "\n",
    "results = model.train(data=\"coco8.yaml\", epochs=5, imgsz=640)"
   ]
  },
  {
   "cell_type": "markdown",
   "id": "c1fd6e4e",
   "metadata": {},
   "source": [
    "## Train on custom dataset"
   ]
  },
  {
   "cell_type": "code",
   "execution_count": null,
   "id": "42689b3a",
   "metadata": {},
   "outputs": [],
   "source": [
    "model = YOLO(\"yolo12n.pt\")\n",
    "\n",
    "results = model.train(data=\"../../data/datasets/yolo_drone/data.yaml\", epochs=50, imgsz=640)"
   ]
  }
 ],
 "metadata": {
  "kernelspec": {
   "display_name": "venv",
   "language": "python",
   "name": "python3"
  },
  "language_info": {
   "codemirror_mode": {
    "name": "ipython",
    "version": 3
   },
   "file_extension": ".py",
   "mimetype": "text/x-python",
   "name": "python",
   "nbconvert_exporter": "python",
   "pygments_lexer": "ipython3",
   "version": "3.11.2"
  }
 },
 "nbformat": 4,
 "nbformat_minor": 5
}
