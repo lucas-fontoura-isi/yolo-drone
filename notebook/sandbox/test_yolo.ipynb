{
 "cells": [
  {
   "cell_type": "markdown",
   "id": "e21130f6",
   "metadata": {},
   "source": [
    "# Scripts just to test YOLO models"
   ]
  },
  {
   "cell_type": "markdown",
   "id": "5551bd6e",
   "metadata": {},
   "source": [
    "## Train on random weights"
   ]
  },
  {
   "cell_type": "code",
   "execution_count": null,
   "id": "4e8901f0",
   "metadata": {},
   "outputs": [],
   "source": [
    "from ultralytics import YOLO\n",
    "model = YOLO(\"yolo12n.pt\")\n",
    "\n",
    "results = model.train(data=\"coco8.yaml\", epochs=5, imgsz=640, device='cuda')"
   ]
  },
  {
   "cell_type": "markdown",
   "id": "c1fd6e4e",
   "metadata": {},
   "source": [
    "## Train on custom dataset"
   ]
  },
  {
   "cell_type": "markdown",
   "id": "6e7ae3c9",
   "metadata": {},
   "source": [
    "### Yolo"
   ]
  },
  {
   "cell_type": "code",
   "execution_count": null,
   "id": "42689b3a",
   "metadata": {},
   "outputs": [],
   "source": [
    "from ultralytics import YOLO\n",
    "model = YOLO(\"yolo12n.pt\")\n",
    "\n",
    "results = model.train(data=\"/home/lucas-fontoura/Documents/yolo-drone/data/datasets/veryreduced-sliced-sahi-yolodrone/data.yaml\", epochs=10, imgsz=640, device='cuda', batch=16)"
   ]
  },
  {
   "cell_type": "code",
   "execution_count": null,
   "id": "374b2c89",
   "metadata": {},
   "outputs": [],
   "source": [
    "metrics = model.val()"
   ]
  },
  {
   "cell_type": "code",
   "execution_count": null,
   "id": "2d85ed00",
   "metadata": {},
   "outputs": [],
   "source": [
    "results = {\n",
    "    \"map50-95 (B)\": metrics.box.map,\n",
    "    \"map50 (B)\": metrics.box.map50,\n",
    "    \"map75 (B)\": metrics.box.map75,\n",
    "    \"map50-95 (B) of each category\": metrics.box.maps,\n",
    "}\n",
    "\n",
    "results"
   ]
  },
  {
   "cell_type": "code",
   "execution_count": null,
   "id": "2a7e961c",
   "metadata": {},
   "outputs": [],
   "source": [
    "# Predict with the model\n",
    "results = model(\"/home/lucas-fontoura/Documents/yolo-drone/data/datasets/VeryReduced_InfectedLeaves/images/Aug03_USAMV_DJI_0562_f_01100.jpg\", save=True)  # predict on an image\n",
    "\n",
    "# Access the results\n",
    "for result in results:\n",
    "    xy = result.masks.xy  # mask in polygon format\n",
    "    xyn = result.masks.xyn  # normalized\n",
    "    masks = result.masks.data  # mask in matrix format (num_objects x H x W)"
   ]
  },
  {
   "cell_type": "markdown",
   "id": "100f9297",
   "metadata": {},
   "source": [
    "### Yolo-seg"
   ]
  },
  {
   "cell_type": "code",
   "execution_count": null,
   "id": "77cff8c6",
   "metadata": {},
   "outputs": [],
   "source": [
    "from ultralytics import YOLO\n",
    "model = YOLO(\"yolo11n-seg.pt\")\n",
    "\n",
    "results = model.train(data=\"/home/lucas-fontoura/Documents/yolo-drone/data/datasets/synthetic-seg/data.yaml\", epochs=50, imgsz=800, device='cuda', batch=16)"
   ]
  },
  {
   "cell_type": "code",
   "execution_count": null,
   "id": "fe5ffb4d",
   "metadata": {},
   "outputs": [],
   "source": [
    "metrics = model.val()"
   ]
  },
  {
   "cell_type": "code",
   "execution_count": null,
   "id": "81cfb0df",
   "metadata": {},
   "outputs": [],
   "source": [
    "results = {\n",
    "    \"map50-95 (B)\": metrics.seg.map,\n",
    "    \"map50 (B)\": metrics.seg.map50,\n",
    "    \"map75 (B)\": metrics.seg.map75,\n",
    "    \"map50-95 (B) of each category\": metrics.seg.maps,\n",
    "}\n",
    "\n",
    "results"
   ]
  },
  {
   "cell_type": "code",
   "execution_count": null,
   "id": "c335faa7",
   "metadata": {},
   "outputs": [],
   "source": [
    "from ultralytics import YOLO\n",
    "# Predict with the model\n",
    "model = YOLO(\"/home/lucas-fontoura/Documents/yolo-drone/runs/segment/train3/weights/best.pt\")\n",
    "\n",
    "results = model(\"/home/lucas-fontoura/Documents/yolo-drone/data/datasets/synthetic-seg/images/train/\", save=False, save_conf=True, save_txt=True)  # predict on an image"
   ]
  },
  {
   "cell_type": "code",
   "execution_count": null,
   "id": "83c0c673",
   "metadata": {},
   "outputs": [],
   "source": [
    "import os\n",
    "import csv\n",
    "from ultralytics import YOLO\n",
    "import cv2\n",
    "import numpy as np\n",
    "\n",
    "# ----------------------------\n",
    "# SETTINGS\n",
    "# ----------------------------\n",
    "MODEL_PATH = \"/home/lucas-fontoura/Documents/yolo-drone/runs/segment/train3/weights/best.pt\"\n",
    "DATASET_PATH = \"/home/lucas-fontoura/Documents/yolo-drone/data/datasets/synthetic-seg/images/train/\"\n",
    "LABELS_PATH = \"/home/lucas-fontoura/Documents/yolo-drone/data/datasets/synthetic-seg/labels/train/\"  # YOLO txt labels for test set\n",
    "OUTPUT_DIR = \"difficult_cases\"\n",
    "CONF_THRESHOLD = 0.25   # prediction confidence threshold\n",
    "HIGH_CONF_THRESHOLD = 0.8  # \"confident but wrong\"\n",
    "IOU_THRESHOLD = 0.2     # overlap threshold for matching preds <-> GT\n",
    "SAVE_VISUALS = True\n",
    "\n",
    "# ----------------------------\n",
    "# HELPER FUNCTIONS\n",
    "# ----------------------------\n",
    "def box_iou(box1, box2):\n",
    "    \"\"\"Compute IoU between two boxes [x1,y1,x2,y2].\"\"\"\n",
    "    xA = max(box1[0], box2[0])\n",
    "    yA = max(box1[1], box2[1])\n",
    "    xB = min(box1[2], box2[2])\n",
    "    yB = min(box1[3], box2[3])\n",
    "    inter = max(0, xB - xA) * max(0, yB - yA)\n",
    "    area1 = (box1[2]-box1[0]) * (box1[3]-box1[1])\n",
    "    area2 = (box2[2]-box2[0]) * (box2[3]-box2[1])\n",
    "    union = area1 + area2 - inter\n",
    "    return inter / union if union > 0 else 0\n",
    "\n",
    "def load_gt_boxes(label_path, img_w, img_h):\n",
    "    \"\"\"Load YOLO-Seg txt labels (class + polygon points) and convert to bounding boxes in pixels.\"\"\"\n",
    "    if not os.path.exists(label_path):\n",
    "        return []\n",
    "    boxes = []\n",
    "    with open(label_path, \"r\") as f:\n",
    "        for line in f:\n",
    "            parts = line.strip().split()\n",
    "            cls = int(parts[0])\n",
    "            coords = list(map(float, parts[1:]))\n",
    "            xs = coords[0::2]\n",
    "            ys = coords[1::2]\n",
    "            # denormalize\n",
    "            xs = [int(x * img_w) for x in xs]\n",
    "            ys = [int(y * img_h) for y in ys]\n",
    "            x1, y1, x2, y2 = min(xs), min(ys), max(xs), max(ys)\n",
    "            boxes.append([x1, y1, x2, y2, cls])\n",
    "    return boxes\n",
    "\n",
    "def draw_boxes(image, preds, gts):\n",
    "    \"\"\"Overlay predictions (green) and GT (red).\"\"\"\n",
    "    for (x1,y1,x2,y2,cls,conf) in preds:\n",
    "        cv2.rectangle(image, (x1,y1), (x2,y2), (0,255,0), 2)\n",
    "        cv2.putText(image, f\"P:{cls} {conf:.2f}\", (x1,y1-5), \n",
    "                    cv2.FONT_HERSHEY_SIMPLEX, 0.5, (0,255,0), 1)\n",
    "    for (x1,y1,x2,y2,cls) in gts:\n",
    "        cv2.rectangle(image, (x1,y1), (x2,y2), (0,0,255), 2)\n",
    "        cv2.putText(image, f\"GT:{cls}\", (x1,y2+15), \n",
    "                    cv2.FONT_HERSHEY_SIMPLEX, 0.5, (0,0,255), 1)\n",
    "    return image\n",
    "\n",
    "# ----------------------------\n",
    "# MAIN\n",
    "# ----------------------------\n",
    "os.makedirs(OUTPUT_DIR, exist_ok=True)\n",
    "model = YOLO(MODEL_PATH)\n",
    "\n",
    "results = model(DATASET_PATH, conf=CONF_THRESHOLD, save=False)\n",
    "\n",
    "report = []\n",
    "\n",
    "for r in results:\n",
    "    img_path = r.path\n",
    "    img = cv2.imread(img_path)\n",
    "    h, w = img.shape[:2]\n",
    "    base = os.path.splitext(os.path.basename(img_path))[0]\n",
    "\n",
    "    # Ground truth\n",
    "    label_path = os.path.join(LABELS_PATH, base + \".txt\")\n",
    "    gts = load_gt_boxes(label_path, w, h)\n",
    "\n",
    "    # Predictions\n",
    "    preds = []\n",
    "    for b in r.boxes.data.cpu().numpy():\n",
    "        x1, y1, x2, y2, conf, cls = b\n",
    "        preds.append([int(x1), int(y1), int(x2), int(y2), int(cls), float(conf)])\n",
    "\n",
    "    # Count errors\n",
    "    high_conf_fp = [p for p in preds if p[5] > HIGH_CONF_THRESHOLD and \n",
    "                    max([box_iou(p, g) for g in gts] or [0]) < IOU_THRESHOLD]\n",
    "\n",
    "    missed_gt = [g for g in gts if max([box_iou(p, g) for p in preds] or [0]) < IOU_THRESHOLD]\n",
    "\n",
    "    difficulty_score = len(high_conf_fp) + len(missed_gt)\n",
    "\n",
    "    report.append([img_path, difficulty_score, len(high_conf_fp), len(missed_gt)])\n",
    "\n",
    "    # Save visuals\n",
    "    if SAVE_VISUALS and difficulty_score > 0:\n",
    "        vis_img = draw_boxes(img.copy(), preds, gts)\n",
    "        cv2.imwrite(os.path.join(OUTPUT_DIR, base + \"_vis.jpg\"), vis_img)\n",
    "\n",
    "# Save CSV report\n",
    "report.sort(key=lambda x: x[1], reverse=True)\n",
    "with open(os.path.join(OUTPUT_DIR, \"difficult_images.csv\"), \"w\", newline=\"\") as f:\n",
    "    writer = csv.writer(f)\n",
    "    writer.writerow([\"image\", \"difficulty_score\", \"high_conf_fp\", \"missed_gt\"])\n",
    "    writer.writerows(report)\n",
    "\n",
    "print(f\"Analysis complete. Report saved to {OUTPUT_DIR}/difficult_images.csv\")\n",
    "if SAVE_VISUALS:\n",
    "    print(f\"Visual samples saved to {OUTPUT_DIR}/\")\n"
   ]
  },
  {
   "cell_type": "code",
   "execution_count": null,
   "id": "91ed55c0",
   "metadata": {},
   "outputs": [],
   "source": [
    "from ultralytics import YOLO\n",
    "\n",
    "model = YOLO(\"yolo12n.pt\")"
   ]
  },
  {
   "cell_type": "code",
   "execution_count": null,
   "id": "4fad5815",
   "metadata": {},
   "outputs": [],
   "source": [
    "old_conv = model.model.model[0].conv"
   ]
  },
  {
   "cell_type": "code",
   "execution_count": null,
   "id": "d8c38702",
   "metadata": {},
   "outputs": [],
   "source": [
    "old_conv"
   ]
  }
 ],
 "metadata": {
  "kernelspec": {
   "display_name": "venv",
   "language": "python",
   "name": "python3"
  },
  "language_info": {
   "codemirror_mode": {
    "name": "ipython",
    "version": 3
   },
   "file_extension": ".py",
   "mimetype": "text/x-python",
   "name": "python",
   "nbconvert_exporter": "python",
   "pygments_lexer": "ipython3",
   "version": "3.11.2"
  }
 },
 "nbformat": 4,
 "nbformat_minor": 5
}
