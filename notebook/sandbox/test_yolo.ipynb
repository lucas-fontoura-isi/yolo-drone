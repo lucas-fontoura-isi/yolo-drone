{
 "cells": [
  {
   "cell_type": "markdown",
   "id": "e21130f6",
   "metadata": {},
   "source": [
    "# Scripts just to test YOLO models"
   ]
  },
  {
   "cell_type": "markdown",
   "id": "5551bd6e",
   "metadata": {},
   "source": [
    "## Train on random weights"
   ]
  },
  {
   "cell_type": "code",
   "execution_count": null,
   "id": "4e8901f0",
   "metadata": {},
   "outputs": [],
   "source": [
    "from ultralytics import YOLO\n",
    "model = YOLO(\"yolo12n.pt\")\n",
    "\n",
    "results = model.train(data=\"coco8.yaml\", epochs=5, imgsz=640, device='cuda')"
   ]
  },
  {
   "cell_type": "markdown",
   "id": "c1fd6e4e",
   "metadata": {},
   "source": [
    "## Train on custom dataset"
   ]
  },
  {
   "cell_type": "markdown",
   "id": "6e7ae3c9",
   "metadata": {},
   "source": [
    "### Yolo"
   ]
  },
  {
   "cell_type": "code",
   "execution_count": null,
   "id": "42689b3a",
   "metadata": {},
   "outputs": [],
   "source": [
    "from ultralytics import YOLO\n",
    "model = YOLO(\"yolo12n.pt\")\n",
    "\n",
    "results = model.train(data=\"/home/lucas-fontoura/Documents/yolo-drone/data/datasets/veryreduced-sliced-sahi-yolodrone/data.yaml\", epochs=10, imgsz=640, device='cuda', batch=16)"
   ]
  },
  {
   "cell_type": "code",
   "execution_count": null,
   "id": "374b2c89",
   "metadata": {},
   "outputs": [],
   "source": [
    "metrics = model.val()"
   ]
  },
  {
   "cell_type": "code",
   "execution_count": null,
   "id": "2d85ed00",
   "metadata": {},
   "outputs": [],
   "source": [
    "results = {\n",
    "    \"map50-95 (B)\": metrics.box.map,\n",
    "    \"map50 (B)\": metrics.box.map50,\n",
    "    \"map75 (B)\": metrics.box.map75,\n",
    "    \"map50-95 (B) of each category\": metrics.box.maps,\n",
    "}\n",
    "\n",
    "results"
   ]
  },
  {
   "cell_type": "code",
   "execution_count": null,
   "id": "2a7e961c",
   "metadata": {},
   "outputs": [],
   "source": [
    "# Predict with the model\n",
    "results = model(\"/home/lucas-fontoura/Documents/yolo-drone/data/datasets/VeryReduced_InfectedLeaves/images/Aug03_USAMV_DJI_0562_f_01100.jpg\", save=True)  # predict on an image\n",
    "\n",
    "# Access the results\n",
    "for result in results:\n",
    "    xy = result.masks.xy  # mask in polygon format\n",
    "    xyn = result.masks.xyn  # normalized\n",
    "    masks = result.masks.data  # mask in matrix format (num_objects x H x W)"
   ]
  },
  {
   "cell_type": "markdown",
   "id": "100f9297",
   "metadata": {},
   "source": [
    "### Yolo-seg"
   ]
  },
  {
   "cell_type": "code",
   "execution_count": null,
   "id": "77cff8c6",
   "metadata": {},
   "outputs": [],
   "source": [
    "from ultralytics import YOLO\n",
    "model = YOLO(\"yolo11n-seg.pt\")\n",
    "\n",
    "results = model.train(data=\"/home/lucas-fontoura/Documents/yolo-drone/data/datasets/synthetic-seg/data.yaml\", epochs=50, imgsz=800, device='cuda', batch=16)"
   ]
  },
  {
   "cell_type": "code",
   "execution_count": null,
   "id": "fe5ffb4d",
   "metadata": {},
   "outputs": [],
   "source": [
    "metrics = model.val()"
   ]
  },
  {
   "cell_type": "code",
   "execution_count": null,
   "id": "81cfb0df",
   "metadata": {},
   "outputs": [],
   "source": [
    "results = {\n",
    "    \"map50-95 (B)\": metrics.seg.map,\n",
    "    \"map50 (B)\": metrics.seg.map50,\n",
    "    \"map75 (B)\": metrics.seg.map75,\n",
    "    \"map50-95 (B) of each category\": metrics.seg.maps,\n",
    "}\n",
    "\n",
    "results"
   ]
  },
  {
   "cell_type": "code",
   "execution_count": null,
   "id": "c335faa7",
   "metadata": {},
   "outputs": [],
   "source": [
    "# Predict with the model\n",
    "results = model(\"/home/lucas-fontoura/Documents/yolo-drone/data/datasets/VeryReduced_InfectedLeaves/images/Aug03_USAMV_DJI_0562_f_01100.jpg\", save=True)  # predict on an image\n",
    "\n",
    "# Access the results\n",
    "for result in results:\n",
    "    xy = result.masks.xy  # mask in polygon format\n",
    "    xyn = result.masks.xyn  # normalized\n",
    "    masks = result.masks.data  # mask in matrix format (num_objects x H x W)"
   ]
  }
 ],
 "metadata": {
  "kernelspec": {
   "display_name": "venv",
   "language": "python",
   "name": "python3"
  },
  "language_info": {
   "codemirror_mode": {
    "name": "ipython",
    "version": 3
   },
   "file_extension": ".py",
   "mimetype": "text/x-python",
   "name": "python",
   "nbconvert_exporter": "python",
   "pygments_lexer": "ipython3",
   "version": "3.11.2"
  }
 },
 "nbformat": 4,
 "nbformat_minor": 5
}
