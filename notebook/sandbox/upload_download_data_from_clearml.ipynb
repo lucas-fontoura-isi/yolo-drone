{
 "cells": [
  {
   "cell_type": "markdown",
   "id": "f8241335",
   "metadata": {},
   "source": [
    "# Scripts utilized for downloading/uploading data to ClearML"
   ]
  },
  {
   "cell_type": "markdown",
   "id": "600b2220",
   "metadata": {},
   "source": [
    "## Uploading to ClearML"
   ]
  },
  {
   "cell_type": "code",
   "execution_count": null,
   "id": "82e84999",
   "metadata": {},
   "outputs": [],
   "source": [
    "import clearml\n",
    "\n",
    "dataset = clearml.Dataset.create(dataset_project = \"teste_lucas/YoloDrone\", dataset_name = \"YoloDrone\", dataset_tags = [\"RealData\"])\n",
    "dataset.add_files(\n",
    "    path = \"\",\n",
    "    wildcard = None,\n",
    "    dataset_path = None,\n",
    "    recursive = True\n",
    ")\n",
    "dataset.upload(\n",
    "    show_progress = True,\n",
    "    verbose = True,\n",
    "    output_url = None,\n",
    "    compression = None\n",
    ")\n",
    "dataset.finalize()"
   ]
  }
 ],
 "metadata": {
  "kernelspec": {
   "display_name": "venv",
   "language": "python",
   "name": "python3"
  },
  "language_info": {
   "codemirror_mode": {
    "name": "ipython",
    "version": 3
   },
   "file_extension": ".py",
   "mimetype": "text/x-python",
   "name": "python",
   "nbconvert_exporter": "python",
   "pygments_lexer": "ipython3",
   "version": "3.11.2"
  }
 },
 "nbformat": 4,
 "nbformat_minor": 5
}
