{
 "cells": [
  {
   "cell_type": "markdown",
   "id": "280a88c7",
   "metadata": {},
   "source": [
    "# Just to test stuff"
   ]
  },
  {
   "cell_type": "code",
   "execution_count": 3,
   "id": "28d7d001",
   "metadata": {},
   "outputs": [
    {
     "name": "stdout",
     "output_type": "stream",
     "text": [
      "    *\n",
      "   ***\n",
      "  *****\n",
      " *******\n",
      "*********\n"
     ]
    }
   ],
   "source": [
    "rows = 5\n",
    "\n",
    "for i in range(1, rows + 1):\n",
    "        for j in range(rows - i):\n",
    "            print(\" \", end=\"\")\n",
    "        \n",
    "        for k in range(1, 2 * i):\n",
    "            print(\"*\", end=\"\")\n",
    "        \n",
    "        print()"
   ]
  }
 ],
 "metadata": {
  "kernelspec": {
   "display_name": "venv",
   "language": "python",
   "name": "python3"
  },
  "language_info": {
   "codemirror_mode": {
    "name": "ipython",
    "version": 3
   },
   "file_extension": ".py",
   "mimetype": "text/x-python",
   "name": "python",
   "nbconvert_exporter": "python",
   "pygments_lexer": "ipython3",
   "version": "3.11.2"
  }
 },
 "nbformat": 4,
 "nbformat_minor": 5
}
